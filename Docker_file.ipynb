{
  "nbformat": 4,
  "nbformat_minor": 0,
  "metadata": {
    "colab": {
      "name": "Docker_file.ipynb",
      "provenance": [],
      "authorship_tag": "ABX9TyMbHUjJg623cpEmRsT5PZwX",
      "include_colab_link": true
    },
    "kernelspec": {
      "name": "python3",
      "display_name": "Python 3"
    },
    "language_info": {
      "name": "python"
    }
  },
  "cells": [
    {
      "cell_type": "markdown",
      "metadata": {
        "id": "view-in-github",
        "colab_type": "text"
      },
      "source": [
        "<a href=\"https://colab.research.google.com/github/reggy0/YOLO5/blob/main/Docker_file.ipynb\" target=\"_parent\"><img src=\"https://colab.research.google.com/assets/colab-badge.svg\" alt=\"Open In Colab\"/></a>"
      ]
    },
    {
      "cell_type": "code",
      "execution_count": null,
      "metadata": {
        "id": "t89dSjqg82zd"
      },
      "outputs": [],
      "source": [
        "# Start FROM Nvidia PyTorch image https://ngc.nvidia.com/catalog/containers/nvidia:pytorch\n",
        "FROM nvcr.io/nvidia/pytorch:20.06-py3\n",
        "RUN pip install -U gsutil\n",
        "\n",
        "# Create working directory\n",
        "RUN mkdir -p /usr/src/app\n",
        "WORKDIR /usr/src/app\n",
        "\n",
        "# Copy contents\n",
        "COPY . /usr/src/app\n",
        "\n",
        "# Install dependencies (pip or conda)\n",
        "#RUN pip install -r requirements.txt\n",
        "\n",
        "# Copy weights\n",
        "#RUN python3 -c \"from models import *; \\\n",
        "#attempt_download('weights/yolov5s.pt'); \\\n",
        "#attempt_download('weights/yolov5m.pt'); \\\n",
        "#attempt_download('weights/yolov5l.pt')\"\n",
        "\n",
        "\n",
        "# ---------------------------------------------------  Extras Below  ---------------------------------------------------\n",
        "\n",
        "# Build and Push\n",
        "# t=ultralytics/yolov5:latest && sudo docker build -t $t . && sudo docker push $t\n",
        "\n",
        "# Pull and Run\n",
        "# t=ultralytics/yolov5:latest && sudo docker pull $t && sudo docker run -it --ipc=host $t bash\n",
        "\n",
        "# Pull and Run with local directory access\n",
        "# t=ultralytics/yolov5:latest && sudo docker pull $t && sudo docker run -it --ipc=host --gpus all -v \"$(pwd)\"/coco:/usr/src/coco $t bash\n",
        "\n",
        "# Kill all\n",
        "# sudo docker kill \"$(sudo docker ps -q)\"\n",
        "\n",
        "# Kill all image-based\n",
        "# sudo docker kill $(sudo docker ps -a -q --filter ancestor=ultralytics/yolov5:latest)\n",
        "\n",
        "# Run bash for loop\n",
        "# sudo docker run --gpus all --ipc=host ultralytics/yolov5:latest while true; do python3 train.py --evolve; done\n",
        "\n",
        "# Bash into running container\n",
        "# sudo docker container exec -it ba65811811ab bash\n",
        "# python -c \"from utils.utils import *; create_pretrained('weights/last.pt')\" && gsutil cp weights/pretrained.pt gs://*\n",
        "\n",
        "# Bash into stopped container\n",
        "# sudo docker commit 6d525e299258 user/test_image && sudo docker run -it --gpus all --ipc=host -v \"$(pwd)\"/coco:/usr/src/coco --entrypoint=sh user/test_image\n",
        "\n",
        "# Clean up\n",
        "# docker system prune -a --volumes"
      ]
    }
  ]
}